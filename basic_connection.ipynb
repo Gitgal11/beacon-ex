{
 "cells": [
  {
   "cell_type": "code",
   "execution_count": 9,
   "metadata": {},
   "outputs": [],
   "source": [
    "import boto3\n",
    "import pandas as pd\n",
    "\n",
    "table_name = 'beacons'\n",
    "client = boto3.client('dynamodb')\n"
   ]
  },
  {
   "cell_type": "code",
   "execution_count": 16,
   "metadata": {},
   "outputs": [],
   "source": [
    "start_timestamp = 1724234689000\n",
    "end_timestamp   = 1724234689000 + 120000"
   ]
  },
  {
   "cell_type": "code",
   "execution_count": 11,
   "metadata": {},
   "outputs": [],
   "source": [
    "\n",
    "response = client.query(\n",
    "    TableName=table_name,\n",
    "     KeyConditionExpression='#src = :tracker_1 AND timestamp_ms BETWEEN :start AND :end', \n",
    "    ExpressionAttributeNames={\n",
    "        '#src': 'source'  # Assuming 'source' is the name of your primary partition key\n",
    "    },\n",
    "    ExpressionAttributeValues={\n",
    "        ':tracker_1': {'S': 'traker_1'} ,\n",
    "        ':start': {'S': str(start_timestamp)},\n",
    "        ':end': {'S': str(end_timestamp)} \n",
    "    }\n",
    ")"
   ]
  },
  {
   "cell_type": "code",
   "execution_count": 12,
   "metadata": {},
   "outputs": [
    {
     "name": "stdout",
     "output_type": "stream",
     "text": [
      " Unique MAC addresses:  9\n"
     ]
    }
   ],
   "source": [
    "items = response['Items']\n",
    "beacons = []\n",
    "for item in items:\n",
    "    beacons.append([item['timestamp_ms']['S'], item['source']['S'], item['rssi']['N'], item['mac']['S']]) \n",
    "\n",
    "dtype = {'timestamp_ms': 'int64', 'source': 'str', 'rssi': 'int64', 'mac': 'str'}\n",
    "df = pd.DataFrame(beacons, columns=['timestamp_ms', 'source', 'rssi', 'mac']).astype(dtype)\n",
    "print(\" Unique MAC addresses: \", len(df['mac'].unique()))    \n"
   ]
  },
  {
   "cell_type": "code",
   "execution_count": 13,
   "metadata": {},
   "outputs": [
    {
     "name": "stdout",
     "output_type": "stream",
     "text": [
      "beacon: d0:36:dd:ef:4d:0c is inside the room\n",
      "beacon: c4:8f:be:90:22:7a is inside the room\n",
      "beacon: c1:67:43:fd:a0:9f is inside the room\n",
      "beacon: c4:ea:b3:69:fc:30 is inside the room\n",
      "beacon: ea:10:2f:0e:f1:c5 is inside the room\n",
      "beacon: cf:45:f7:4c:89:d3 is inside the room\n",
      "beacon: c0:28:5d:63:81:5c is inside the room\n",
      "beacon: e3:31:dd:f0:33:52 is inside the room\n",
      "beacon: c6:58:98:77:12:d3 is inside the room\n"
     ]
    }
   ],
   "source": [
    "# print mac addresses for beacons inside the room and beacons outside the room\n",
    "df_place = df.groupby(['mac']).max().sort_values(by='rssi', ascending=False)['rssi'] > -75\n",
    "for mac in df_place.index:\n",
    "    if df_place[mac]:\n",
    "        print(f\"beacon: {mac} is inside the room\")\n",
    "    else:\n",
    "        print(f\"beacon: {mac} is outside the room\")"
   ]
  },
  {
   "cell_type": "code",
   "execution_count": 14,
   "metadata": {},
   "outputs": [
    {
     "data": {
      "text/plain": [
       "mac\n",
       "d0:36:dd:ef:4d:0c   -45.375000\n",
       "c4:8f:be:90:22:7a   -52.250000\n",
       "c4:ea:b3:69:fc:30   -54.000000\n",
       "c1:67:43:fd:a0:9f   -55.300000\n",
       "ea:10:2f:0e:f1:c5   -57.666667\n",
       "cf:45:f7:4c:89:d3   -57.750000\n",
       "c0:28:5d:63:81:5c   -63.818182\n",
       "c6:58:98:77:12:d3   -65.880000\n",
       "e3:31:dd:f0:33:52   -66.382353\n",
       "Name: rssi, dtype: float64"
      ]
     },
     "execution_count": 14,
     "metadata": {},
     "output_type": "execute_result"
    }
   ],
   "source": [
    "df.groupby(['mac'])['rssi'].mean().sort_values(ascending=False)"
   ]
  },
  {
   "cell_type": "code",
   "execution_count": 15,
   "metadata": {},
   "outputs": [
    {
     "data": {
      "text/html": [
       "<div>\n",
       "<style scoped>\n",
       "    .dataframe tbody tr th:only-of-type {\n",
       "        vertical-align: middle;\n",
       "    }\n",
       "\n",
       "    .dataframe tbody tr th {\n",
       "        vertical-align: top;\n",
       "    }\n",
       "\n",
       "    .dataframe thead th {\n",
       "        text-align: right;\n",
       "    }\n",
       "</style>\n",
       "<table border=\"1\" class=\"dataframe\">\n",
       "  <thead>\n",
       "    <tr style=\"text-align: right;\">\n",
       "      <th></th>\n",
       "      <th>timestamp_ms</th>\n",
       "      <th>source</th>\n",
       "      <th>rssi</th>\n",
       "    </tr>\n",
       "    <tr>\n",
       "      <th>mac</th>\n",
       "      <th></th>\n",
       "      <th></th>\n",
       "      <th></th>\n",
       "    </tr>\n",
       "  </thead>\n",
       "  <tbody>\n",
       "    <tr>\n",
       "      <th>c0:28:5d:63:81:5c</th>\n",
       "      <td>11</td>\n",
       "      <td>11</td>\n",
       "      <td>11</td>\n",
       "    </tr>\n",
       "    <tr>\n",
       "      <th>c1:67:43:fd:a0:9f</th>\n",
       "      <td>40</td>\n",
       "      <td>40</td>\n",
       "      <td>40</td>\n",
       "    </tr>\n",
       "    <tr>\n",
       "      <th>c4:8f:be:90:22:7a</th>\n",
       "      <td>4</td>\n",
       "      <td>4</td>\n",
       "      <td>4</td>\n",
       "    </tr>\n",
       "    <tr>\n",
       "      <th>c4:ea:b3:69:fc:30</th>\n",
       "      <td>2</td>\n",
       "      <td>2</td>\n",
       "      <td>2</td>\n",
       "    </tr>\n",
       "    <tr>\n",
       "      <th>c6:58:98:77:12:d3</th>\n",
       "      <td>25</td>\n",
       "      <td>25</td>\n",
       "      <td>25</td>\n",
       "    </tr>\n",
       "    <tr>\n",
       "      <th>cf:45:f7:4c:89:d3</th>\n",
       "      <td>4</td>\n",
       "      <td>4</td>\n",
       "      <td>4</td>\n",
       "    </tr>\n",
       "    <tr>\n",
       "      <th>d0:36:dd:ef:4d:0c</th>\n",
       "      <td>24</td>\n",
       "      <td>24</td>\n",
       "      <td>24</td>\n",
       "    </tr>\n",
       "    <tr>\n",
       "      <th>e3:31:dd:f0:33:52</th>\n",
       "      <td>34</td>\n",
       "      <td>34</td>\n",
       "      <td>34</td>\n",
       "    </tr>\n",
       "    <tr>\n",
       "      <th>ea:10:2f:0e:f1:c5</th>\n",
       "      <td>3</td>\n",
       "      <td>3</td>\n",
       "      <td>3</td>\n",
       "    </tr>\n",
       "  </tbody>\n",
       "</table>\n",
       "</div>"
      ],
      "text/plain": [
       "                   timestamp_ms  source  rssi\n",
       "mac                                          \n",
       "c0:28:5d:63:81:5c            11      11    11\n",
       "c1:67:43:fd:a0:9f            40      40    40\n",
       "c4:8f:be:90:22:7a             4       4     4\n",
       "c4:ea:b3:69:fc:30             2       2     2\n",
       "c6:58:98:77:12:d3            25      25    25\n",
       "cf:45:f7:4c:89:d3             4       4     4\n",
       "d0:36:dd:ef:4d:0c            24      24    24\n",
       "e3:31:dd:f0:33:52            34      34    34\n",
       "ea:10:2f:0e:f1:c5             3       3     3"
      ]
     },
     "execution_count": 15,
     "metadata": {},
     "output_type": "execute_result"
    }
   ],
   "source": [
    "df.groupby(['mac']).count().sort"
   ]
  },
  {
   "cell_type": "code",
   "execution_count": null,
   "metadata": {},
   "outputs": [],
   "source": [
    "# commit 1"
   ]
  }
 ],
 "metadata": {
  "kernelspec": {
   "display_name": ".venv",
   "language": "python",
   "name": "python3"
  },
  "language_info": {
   "codemirror_mode": {
    "name": "ipython",
    "version": 3
   },
   "file_extension": ".py",
   "mimetype": "text/x-python",
   "name": "python",
   "nbconvert_exporter": "python",
   "pygments_lexer": "ipython3",
   "version": "3.11.1"
  }
 },
 "nbformat": 4,
 "nbformat_minor": 2
}
